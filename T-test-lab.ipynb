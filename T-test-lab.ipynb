{
 "cells": [
  {
   "cell_type": "markdown",
   "id": "bd15c2a8",
   "metadata": {},
   "source": [
    "## LAB Inferential statistics - T-test & P-value."
   ]
  },
  {
   "cell_type": "markdown",
   "id": "ecbd9598",
   "metadata": {},
   "source": [
    "### Instructions\n",
    "\n",
    "In a packing plant, a machine packs cartons with jars. It is supposed that a new machine will pack faster on the average than the machine currently used. To test that hypothesis, the times it takes each machine to pack ten cartons are recorded. The results, in seconds, are shown in the tables in the file files_for_lab/machine.txt. Assume that there is sufficient evidence to conduct the t test, does the data provide sufficient evidence to show if one machine is better than the other"
   ]
  },
  {
   "cell_type": "markdown",
   "id": "ce23cfea",
   "metadata": {},
   "source": [
    "STEP 1 We will have another simple example on two sample t test (pooled- when the variances are equal). But this time this is a one sided t-test"
   ]
  },
  {
   "cell_type": "code",
   "execution_count": 1,
   "id": "355560a4",
   "metadata": {},
   "outputs": [],
   "source": [
    "import numpy as np\n",
    "import pandas as pd\n",
    "import statistics"
   ]
  },
  {
   "cell_type": "markdown",
   "id": "dc5441af",
   "metadata": {},
   "source": [
    "New machine:\t42.1     41\t        41.3\t    41.8\t    42.4\t    42.8\t     43.2\t     42.3\t      41.8\t       42.7\n",
    "\n",
    "Old machine:     42.7   43.6         43.8        43.3        42.5        43.5         43.1        41.7          44          44.1"
   ]
  },
  {
   "cell_type": "code",
   "execution_count": 2,
   "id": "4aa6a10d",
   "metadata": {},
   "outputs": [
    {
     "name": "stdout",
     "output_type": "stream",
     "text": [
      "Old machine mean:  43.230000000000004\n",
      "New machine standard deviation is:  0.7498888806572157\n",
      "Sample =  10\n",
      "New machine mean:  42.14\n",
      "New machine standard deviation is:  0.6834552736727638\n",
      "Significancy levevel:  0.05\n"
     ]
    }
   ],
   "source": [
    "old_machine = [42.7, 43.6, 43.8, 43.3, 42.5, 43.5, 43.1, 41.7, 44, 44.1]\n",
    "old_machine_mean = sum(old_machine) / len(old_machine)\n",
    "print(\"Old machine mean: \", old_machine_mean)\n",
    "\n",
    "old_machine_std = statistics.stdev(old_machine)\n",
    "print(\"New machine standard deviation is: \", old_machine_std)\n",
    "\n",
    "\n",
    "sample = 10\n",
    "print(\"Sample = \", sample)\n",
    "\n",
    "\n",
    "new_machine = [42.1, 41, 41.3, 41.8, 42.4, 42.8, 43.2, 42.3, 41.8, 42.7]\n",
    "new_machine_mean = sum(new_machine) / len(new_machine)\n",
    "print(\"New machine mean: \", new_machine_mean)\n",
    "\n",
    "new_machine_std = statistics.stdev(new_machine)\n",
    "print(\"New machine standard deviation is: \", new_machine_std)\n",
    "\n",
    "\n",
    "\n",
    "a = 0.05\n",
    "print(\"Significancy levevel: \", a)"
   ]
  },
  {
   "cell_type": "code",
   "execution_count": 3,
   "id": "bb8a4ebb",
   "metadata": {},
   "outputs": [
    {
     "name": "stdout",
     "output_type": "stream",
     "text": [
      "\n",
      "STEP 1- Define the null hypothesis (H0): μ = 43.230000000000004\n",
      "STEP 2- Define the alternate hypotesis: Ha): μ != 43.230000000000004\n",
      "STEP 3- Define significancy level: a = 0.05\n",
      "STEP 4- Do the T staticstics with 2 tails \n",
      "STEP 5- Create the critical region\n",
      "STEP 6- Make a decision\n",
      "\n"
     ]
    }
   ],
   "source": [
    "print(\"\"\"\n",
    "STEP 1- Define the null hypothesis (H0): μ = 43.230000000000004\n",
    "STEP 2- Define the alternate hypotesis: Ha): μ != 43.230000000000004\n",
    "STEP 3- Define significancy level: a = 0.05\n",
    "STEP 4- Do the T staticstics with 2 tails \n",
    "STEP 5- Create the critical region\n",
    "STEP 6- Make a decision\n",
    "\"\"\")"
   ]
  },
  {
   "cell_type": "code",
   "execution_count": 4,
   "id": "b0663c4b",
   "metadata": {},
   "outputs": [],
   "source": [
    "from scipy.stats import ttest_ind, norm\n",
    "\n",
    "old_machine = norm.rvs(loc=new_machine_mean, scale=old_machine_std, size=sample)\n",
    "new_machine = norm.rvs(loc=old_machine_mean, scale=new_machine_std, size=sample)"
   ]
  },
  {
   "cell_type": "code",
   "execution_count": 5,
   "id": "2ff374a0",
   "metadata": {},
   "outputs": [
    {
     "data": {
      "text/plain": [
       "array([42.55076338, 42.99228519, 42.89249316, 41.32718952, 40.70371428,\n",
       "       41.90344517, 41.63290114, 41.46708051, 42.6665382 , 42.06495356])"
      ]
     },
     "execution_count": 5,
     "metadata": {},
     "output_type": "execute_result"
    }
   ],
   "source": [
    "old_machine"
   ]
  },
  {
   "cell_type": "code",
   "execution_count": 6,
   "id": "662e6ea6",
   "metadata": {},
   "outputs": [
    {
     "data": {
      "text/plain": [
       "array([43.05563031, 42.7924355 , 43.31139111, 42.19083105, 42.58622468,\n",
       "       43.83030795, 43.55721002, 43.02526925, 42.84905549, 42.87166115])"
      ]
     },
     "execution_count": 6,
     "metadata": {},
     "output_type": "execute_result"
    }
   ],
   "source": [
    "new_machine"
   ]
  },
  {
   "cell_type": "code",
   "execution_count": 7,
   "id": "340927a3",
   "metadata": {},
   "outputs": [
    {
     "data": {
      "text/plain": [
       "Ttest_indResult(statistic=-3.513958314822116, pvalue=0.00247869152152255)"
      ]
     },
     "execution_count": 7,
     "metadata": {},
     "output_type": "execute_result"
    }
   ],
   "source": [
    "ttest_ind(old_machine, new_machine)"
   ]
  },
  {
   "cell_type": "code",
   "execution_count": 8,
   "id": "ac15364d",
   "metadata": {},
   "outputs": [
    {
     "name": "stdout",
     "output_type": "stream",
     "text": [
      " Our p value is lower than the significancy level so we can reject the null hypotesis. There is enough information to prove that there is a speed difference between both machines\n"
     ]
    }
   ],
   "source": [
    "print(\" The p value is lower than the significancy level so it can reject the null hypotesis. There is enough information to prove that there is a speed difference between both machines\")"
   ]
  },
  {
   "cell_type": "code",
   "execution_count": null,
   "id": "9e6a206a",
   "metadata": {},
   "outputs": [],
   "source": []
  }
 ],
 "metadata": {
  "kernelspec": {
   "display_name": "Python 3 (ipykernel)",
   "language": "python",
   "name": "python3"
  },
  "language_info": {
   "codemirror_mode": {
    "name": "ipython",
    "version": 3
   },
   "file_extension": ".py",
   "mimetype": "text/x-python",
   "name": "python",
   "nbconvert_exporter": "python",
   "pygments_lexer": "ipython3",
   "version": "3.11.4"
  }
 },
 "nbformat": 4,
 "nbformat_minor": 5
}
